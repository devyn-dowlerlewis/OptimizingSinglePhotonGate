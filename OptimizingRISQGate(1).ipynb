{
 "cells": [
  {
   "cell_type": "code",
   "execution_count": 43,
   "metadata": {},
   "outputs": [],
   "source": [
    "import matplotlib.pyplot as plt\n",
    "import autograd.numpy as np\n",
    "import pennylane as qml"
   ]
  },
  {
   "attachments": {},
   "cell_type": "markdown",
   "metadata": {},
   "source": [
    "The RISQ gate is a single photon quantum gate capable of applying arbitrary unitary transforms. More information in the read-me file.\n",
    "\n",
    "It consists of 4 elements: 2 single all-pass rings and 2 stacked rings in alternating order. The single photon transformations applied by these elements are represented by scattering matrices.\n",
    "\n",
    "Stacked ring scattering matrix S_DB is built from 3 matrices describing each coupling point between seperate waveguides"
   ]
  },
  {
   "cell_type": "code",
   "execution_count": 44,
   "metadata": {},
   "outputs": [],
   "source": [
    "def generate_S_DB(theta_b, theta_t, eta_sqrd, tau_sqrd):\n",
    "    eta = np.sqrt(eta_sqrd)\n",
    "    tau = np.sqrt(tau_sqrd)\n",
    "    kappa = 1j * np.sqrt(1 - tau_sqrd)\n",
    "    gamma = 1j * np.sqrt(1 - eta_sqrd)\n",
    "\n",
    "    T_b = generate_transfer(generate_S_b(theta_b, tau, kappa))\n",
    "    T_t = generate_transfer(generate_S_t(theta_t, tau, kappa))\n",
    "    T_I = generate_transfer(generate_S_I(eta, gamma))\n",
    "\n",
    "    # S_DB = T_b * T_I * T_t\n",
    "    A = T_b.dot(T_I)\n",
    "    S_DB = np.transpose(generate_scattering(A.dot(T_t)))\n",
    "\n",
    "\n",
    "    return S_DB\n",
    "\n",
    "\n",
    "def generate_S_b(theta, tau, kappa):\n",
    "    t_b = tau\n",
    "\n",
    "    s_b = -np.conjugate(kappa)*np.exp(-1j * theta/2)\n",
    "\n",
    "    sPrime_b = kappa*np.exp(-1j * theta/2)\n",
    "\n",
    "    tPrime_b = tau*np.exp(-1j * theta)\n",
    "\n",
    "    return np.array([[t_b, sPrime_b], [s_b, tPrime_b]])\n",
    "\n",
    "\n",
    "def generate_S_t(theta, tau, kappa):\n",
    "    t_t = tau*np.exp(-1j * theta)\n",
    "\n",
    "    sPrime_t = -np.conjugate(kappa) * np.exp(-1j * theta/2)\n",
    "\n",
    "    s_t = kappa*np.exp(-1j * theta/2)\n",
    "\n",
    "    tPrime_t = tau\n",
    "\n",
    "    return np.array([[t_t, sPrime_t], [s_t, tPrime_t]])\n",
    "\n",
    "\n",
    "def generate_S_I(eta, gamma):\n",
    "    t_I = eta\n",
    "    sPrime_I = gamma\n",
    "    s_I = gamma\n",
    "    tPrime_I = eta\n",
    "\n",
    "    return np.array([[t_I, sPrime_I], [s_I, tPrime_I]])\n",
    "\n",
    "def generate_transfer(S):\n",
    "    a = S[0][0]\n",
    "    b = S[0][1]\n",
    "    c = S[1][0]\n",
    "    d = S[1][1]\n",
    "\n",
    "    det = np.linalg.det(S)\n",
    "\n",
    "    return np.array([[1/c, -d/c], [a/c, -det/c]])\n",
    "\n",
    "\n",
    "def generate_scattering(T):\n",
    "    a = T[0][0]\n",
    "    b = T[0][1]\n",
    "    c = T[1][0]\n",
    "    d = T[1][1]\n",
    "\n",
    "    det = np.linalg.det(T)\n",
    "\n",
    "    return np.array([[c / a, det / a], [1 / a, -b / a]])"
   ]
  },
  {
   "cell_type": "markdown",
   "metadata": {},
   "source": [
    "PennyLane has a built-in, automatically differentiable phase-shift gate that can be mapped to the scattering matrix defining the all-pass ring. These functions numerically map between their variables"
   ]
  },
  {
   "cell_type": "code",
   "execution_count": 45,
   "metadata": {},
   "outputs": [],
   "source": [
    "def findAllPassAngle(phaseAngle):\n",
    "    pennyLaneVal = np.exp(1j*phaseAngle)\n",
    "\n",
    "    allPassAngle = phaseAngle\n",
    "\n",
    "    tau = np.sqrt(0.5)\n",
    "    kappa = 1j * np.sqrt(1 - tau ** 2)\n",
    "    allPassVal = np.conjugate(1 / (tau - (abs(kappa)**2) * np.exp(-1j * allPassAngle) / (1 - tau * np.exp(-1j * allPassAngle))))\n",
    "    difference = (allPassVal - pennyLaneVal)\n",
    "\n",
    "\n",
    "    while(np.absolute(difference) > 0.001):\n",
    "        allPassAngle = allPassAngle + 0.05\n",
    "        if(allPassAngle > np.pi):\n",
    "            allPassAngle = allPassAngle - 2*np.pi\n",
    "        allPassVal = np.conjugate(1 / (tau - (abs(kappa) ** 2) * np.exp(-1j * allPassAngle) / (1 - tau * np.exp(-1j * allPassAngle))))\n",
    "        difference = (allPassVal - pennyLaneVal)\n",
    "\n",
    "    return allPassAngle\n",
    "\n",
    "\n",
    "def findPhaseAngle(allPassAngle):\n",
    "    tau = np.sqrt(0.5)\n",
    "    kappa = 1j * np.sqrt(1 - tau ** 2)\n",
    "    allPassVal = np.conjugate(1 / (tau - (abs(kappa) ** 2) * np.exp(-1j * allPassAngle) / (1 - tau * np.exp(-1j * allPassAngle))))\n",
    "    phaseAngle = allPassAngle\n",
    "    pennyLaneVal = np.exp(1j*phaseAngle)\n",
    "\n",
    "    difference = (allPassVal - pennyLaneVal)\n",
    "\n",
    "    while(np.absolute(difference) > 0.001):\n",
    "        phaseAngle= phaseAngle + 0.01\n",
    "        if(phaseAngle > np.pi):\n",
    "            phaseAngle = phaseAngle - 2*np.pi\n",
    "        pennyLaneVal = np.exp(1j*phaseAngle)\n",
    "        difference = (allPassVal - pennyLaneVal)\n",
    "    return phaseAngle"
   ]
  },
  {
   "cell_type": "code",
   "execution_count": 46,
   "metadata": {},
   "outputs": [],
   "source": [
    "def localPhase(x,y):\n",
    "    return abs(np.arctan2(y, x))\n",
    "\n",
    "def cost(x, TargetZ = 0, TargetOffset = 0):\n",
    "    Z, Y, X = circuit(x)\n",
    "\n",
    "    PhaseOffset = localPhase(X,Y)\n",
    "\n",
    "    return np.pi/2 * abs(Z - TargetZ) + abs(PhaseOffset - TargetOffset)"
   ]
  },
  {
   "cell_type": "code",
   "execution_count": 47,
   "metadata": {},
   "outputs": [
    {
     "name": "stdout",
     "output_type": "stream",
     "text": [
      "Detuning values  [0.74433692 1.44119553 1.07847714 1.21563143]\n",
      "Coupling values  [0.47479747 0.56156997 0.47822009 0.42149089]\n"
     ]
    }
   ],
   "source": [
    "# Define Pennylane device\n",
    "dev1 = qml.device(\"default.qubit\", wires=3)\n",
    "\n",
    "# Generate random detuning and coupling values\n",
    "a = np.random.random(4)\n",
    "a = a - 0.50\n",
    "b = np.random.random(4)\n",
    "b = b - 0.50\n",
    "detune = np.pi/3 + (np.pi/3)*a\n",
    "couple = 1/2 + 1/4 * b\n",
    "print(\"Detuning values \",detune)\n",
    "print(\"Coupling values \", couple)\n",
    "\n",
    "# Generate the scattering matrices that define the Stacked Rings from the coupling and detuning values\n",
    "STARR1 = generate_S_DB(detune[0],detune[1],couple[0],couple[1])\n",
    "STARR2 = generate_S_DB(detune[2],detune[3],couple[2],couple[3])\n",
    "\n",
    "# Initial all-pass parameters would apply a hadamard in the case of zero error. (detune = pi/3, couple = 1/2)\n",
    "# findPhaseAngle numerically maps the RISQ all-pass ring detuning variable to pennylanes built-in phaseshift gate\n",
    "init_params = np.array([findPhaseAngle(0.34), findPhaseAngle(0.0)])"
   ]
  },
  {
   "attachments": {},
   "cell_type": "markdown",
   "metadata": {},
   "source": [
    "The single-qubit RISQ gate is defined by a series of 4 unitary transformations.\n",
    "\n",
    "The single rings are all-pass rings, which apply transformations equivilent to the qml phaseshift gate\n",
    "\n",
    "The Stacked rings apply a transformation given by generate_S_DB()"
   ]
  },
  {
   "cell_type": "code",
   "execution_count": 48,
   "metadata": {},
   "outputs": [],
   "source": [
    "# 3 copies of the circuit, 1 per measurment (X,Y,Z)\n",
    "\n",
    "@qml.qnode(dev1)\n",
    "def circuit(params):\n",
    "    \n",
    "    qml.QubitUnitary(STARR1, wires=0)\n",
    "    qml.PhaseShift(params[0], wires=0)\n",
    "    qml.QubitUnitary(STARR2, wires=0)\n",
    "    qml.PhaseShift(params[1], wires=0)\n",
    "\n",
    "    qml.QubitUnitary(STARR1, wires=1)\n",
    "    qml.PhaseShift(params[0], wires=1)\n",
    "    qml.QubitUnitary(STARR2, wires=1)\n",
    "    qml.PhaseShift(params[1], wires=1)\n",
    "\n",
    "    qml.QubitUnitary(STARR1, wires=2)\n",
    "    qml.PhaseShift(params[0], wires=2)\n",
    "    qml.QubitUnitary(STARR2, wires=2)\n",
    "    qml.PhaseShift(params[1], wires=2)\n",
    "\n",
    "\n",
    "\n",
    "\n",
    "    return qml.expval(qml.PauliZ(0)), qml.expval(qml.PauliY(1)), qml.expval(qml.PauliX(2))"
   ]
  },
  {
   "cell_type": "code",
   "execution_count": 49,
   "metadata": {},
   "outputs": [
    {
     "name": "stdout",
     "output_type": "stream",
     "text": [
      "Cost after step    10:  0.5635024\n",
      "current rotation angles: [ 0.32084035 -0.01015988]\n",
      "\n",
      "Cost after step    20:  0.4397419\n",
      "current rotation angles: [ 0.30593161 -0.01840809]\n",
      "\n",
      "Cost after step    30:  0.3362740\n",
      "current rotation angles: [ 0.29073779 -0.02594534]\n",
      "\n",
      "Cost after step    40:  0.2486517\n",
      "current rotation angles: [ 0.27519391 -0.0247036 ]\n",
      "\n",
      "Cost after step    50:  0.1493062\n",
      "current rotation angles: [ 0.25875899 -0.02221606]\n",
      "\n",
      "Cost after step    60:  0.0496066\n",
      "current rotation angles: [ 0.24187746 -0.02111692]\n",
      "\n",
      "Cost after step    64:  0.0045256\n",
      "current rotation angles: [ 0.23532397 -0.02148944]\n"
     ]
    }
   ],
   "source": [
    "# initialise the optimizer\n",
    "opt = qml.AdamOptimizer(stepsize=0.01)\n",
    "# set the max number of steps\n",
    "steps = 5000\n",
    "# set the initial parameter values\n",
    "params = init_params\n",
    "\n",
    "# Save initial parameters for later\n",
    "x = findAllPassAngle(init_params[0])\n",
    "y = findAllPassAngle(init_params[1])\n",
    "paramsINIT = np.array([x, y])\n",
    "\n",
    "# Variable to save cost values for graphical display\n",
    "Y = np.zeros(steps)\n",
    "\n",
    "\n",
    "for i in range(steps):\n",
    "    # update the circuit parameters using the optimizer\n",
    "    params = opt.step(cost, params)\n",
    "    Y[i] = cost(params)\n",
    "    # Display progress every 10 steps\n",
    "    if (i + 1) % 10 == 0:\n",
    "        a = qml.math.toarray(params)\n",
    "        x = findAllPassAngle(a[0])\n",
    "        y = findAllPassAngle(a[1])\n",
    "        paramsNP = np.array([x, y])\n",
    "        print(\"Cost after step {:5d}: {: .7f}\".format(i + 1, cost(params)))\n",
    "        print(\"current rotation angles: {}\".format(paramsNP))\n",
    "        print()\n",
    "\n",
    "    # Stop optimizing if cost is low enough\n",
    "    if cost(params) < 0.01:\n",
    "        a = qml.math.toarray(params)\n",
    "        x = findAllPassAngle(a[0])\n",
    "        y = findAllPassAngle(a[1])\n",
    "        paramsNP = np.array([x, y])\n",
    "\n",
    "        print(\"Cost after step {:5d}: {: .7f}\".format(i + 1, cost(params)))\n",
    "        print(\"current rotation angles: {}\".format(paramsNP))\n",
    "        break"
   ]
  },
  {
   "cell_type": "code",
   "execution_count": 50,
   "metadata": {},
   "outputs": [
    {
     "name": "stdout",
     "output_type": "stream",
     "text": [
      "Optimized rotation angles: [ 0.23532397 -0.02148944]\n",
      "Initial rotation angles: [3.39923242e-01 2.13804608e-04]\n",
      "Original Bloch Sphere Vector [Z Y X]: [-0.35785541 -0.14396251  0.92261276]\n",
      "Final Bloch Sphere Vector [Z Y X]: [-0.00220472  0.00106242  0.99999701]\n",
      "\n",
      "Change in detunings: [-0.10459928 -0.02170325]\n"
     ]
    },
    {
     "data": {
      "image/png": "[encoded data removed]",
      "text/plain": [
       "<Figure size 432x288 with 1 Axes>"
      ]
     },
     "metadata": {
      "needs_background": "light"
     },
     "output_type": "display_data"
    }
   ],
   "source": [
    "# Format data\n",
    "Y = numpy.trim_zeros(Y)\n",
    "X = numpy.linspace(0, len(Y)-1, len(Y))\n",
    "\n",
    "# Print final information about optimization\n",
    "print(\"Optimized rotation angles: {}\".format(paramsNP))\n",
    "print(\"Initial rotation angles: {}\".format(paramsINIT))\n",
    "print(\"Original Bloch Sphere Vector [Z Y X]: {}\".format(circuit(init_params)))\n",
    "print(\"Final Bloch Sphere Vector [Z Y X]: {}\".format(circuit(params)))\n",
    "\n",
    "difference = - paramsINIT + paramsNP\n",
    "print()\n",
    "print(\"Change in detunings: {}\".format(difference))\n",
    "\n",
    "# Plot graph of training progress\n",
    "plt.figure(1)\n",
    "plt.plot(X, Y, \"-r\", label=\"|\\u03B1|^2\")\n",
    "plt.title(\"Optimizing All-Pass Ring Detunings to Implement a Hadamard Gate on a | 0 > State\")\n",
    "plt.xlabel(\"Training Step\")\n",
    "plt.ylabel(\"Loss Function Value\")\n",
    "plt.yscale('log', base=10, subs=[1, 2, 3, 4, 5, 6, 7, 8, 9])\n",
    "plt.xscale('linear')\n",
    "plt.grid(True)\n",
    "plt.show()"
   ]
  }
 ],
 "metadata": {
  "kernelspec": {
   "display_name": "Python 3",
   "language": "python",
   "name": "python3"
  },
  "language_info": {
   "codemirror_mode": {
    "name": "ipython",
    "version": 3
   },
   "file_extension": ".py",
   "mimetype": "text/x-python",
   "name": "python",
   "nbconvert_exporter": "python",
   "pygments_lexer": "ipython3",
   "version": "3.6.12"
  }
 },
 "nbformat": 4,
 "nbformat_minor": 4
}
